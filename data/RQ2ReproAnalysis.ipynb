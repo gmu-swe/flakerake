{
 "cells": [
  {
   "cell_type": "code",
   "execution_count": 1,
   "metadata": {
    "vscode": {
     "languageId": "r"
    }
   },
   "outputs": [
    {
     "name": "stderr",
     "output_type": "stream",
     "text": [
      "\n",
      "Attaching package: ‘dplyr’\n",
      "\n",
      "\n",
      "The following objects are masked from ‘package:stats’:\n",
      "\n",
      "    filter, lag\n",
      "\n",
      "\n",
      "The following objects are masked from ‘package:base’:\n",
      "\n",
      "    intersect, setdiff, setequal, union\n",
      "\n",
      "\n",
      "\n",
      "Attaching package: ‘kableExtra’\n",
      "\n",
      "\n",
      "The following object is masked from ‘package:dplyr’:\n",
      "\n",
      "    group_rows\n",
      "\n",
      "\n",
      "Registering fonts with R\n",
      "\n",
      "Adobe Caslon Pro Bold already registered with pdfFonts().\n",
      "\n",
      "Adobe Caslon Pro already registered with pdfFonts().\n",
      "\n",
      "DejaVu Sans already registered with pdfFonts().\n",
      "\n",
      "DejaVu Sans Mono already registered with pdfFonts().\n",
      "\n",
      "DejaVu Serif already registered with pdfFonts().\n",
      "\n",
      "Droid Sans Fallback already registered with pdfFonts().\n",
      "\n",
      "FontAwesome already registered with pdfFonts().\n",
      "\n",
      "GLYPHICONS Halflings already registered with pdfFonts().\n",
      "\n",
      "Lato Black already registered with pdfFonts().\n",
      "\n",
      "Lato already registered with pdfFonts().\n",
      "\n",
      "Lato Hairline already registered with pdfFonts().\n",
      "\n",
      "Lato Heavy already registered with pdfFonts().\n",
      "\n",
      "Lato Light already registered with pdfFonts().\n",
      "\n",
      "Lato Medium already registered with pdfFonts().\n",
      "\n",
      "Lato Semibold already registered with pdfFonts().\n",
      "\n",
      "Lato Thin already registered with pdfFonts().\n",
      "\n",
      "Noto Mono already registered with pdfFonts().\n",
      "\n",
      "More than one version of regular/bold/italic found for Roboto Condensed. Skipping setup for this font.\n",
      "\n",
      "Times New Roman already registered with pdfFonts().\n",
      "\n"
     ]
    }
   ],
   "source": [
    "library('base64enc');\n",
    "library('stringr');\n",
    "library('dplyr');\n",
    "library('tidyr');\n",
    "library('ggplot2');\n",
    "library('stringr');\n",
    "library('kimisc');\n",
    "library(readr)\n",
    "library(knitr)\n",
    "library(kableExtra)\n",
    "library(IRdisplay)\n",
    "library(hrbrthemes)\n",
    "library(extrafont)\n",
    "\n",
    "extrafont::loadfonts()\n",
    "\n",
    "\n",
    "options(repr.matrix.max.rows=600, repr.matrix.max.cols=200)\n",
    "\n",
    "extractExceptionName <- function(firstLine){\n",
    "    ret <- str_match(firstLine, \"([^:]+)\")\n",
    "    ret[1]\n",
    "}\n",
    "decodeTrace <- function(enc) {\n",
    "    rawToChar(base64decode(as.character(enc)))\n",
    "}\n",
    "convertTestName <- function(t){\n",
    "    parts <- str_match(t,\"(.+)\\\\.(.+)\")\n",
    "    paste(parts[,2],parts[,3],sep=\"#\")\n",
    "}"
   ]
  },
  {
   "cell_type": "code",
   "execution_count": 2,
   "metadata": {
    "vscode": {
     "languageId": "r"
    }
   },
   "outputs": [
    {
     "name": "stderr",
     "output_type": "stream",
     "text": [
      "\u001b[1m\u001b[1mRows: \u001b[1m\u001b[22m\u001b[34m\u001b[34m1087\u001b[34m\u001b[39m \u001b[1m\u001b[1mColumns: \u001b[1m\u001b[22m\u001b[34m\u001b[34m13\u001b[34m\u001b[39m\n",
      "\n",
      "\u001b[36m──\u001b[39m \u001b[1m\u001b[1mColumn specification\u001b[1m\u001b[22m \u001b[36m────────────────────────────────────────────────────────\u001b[39m\n",
      "\u001b[1mDelimiter:\u001b[22m \",\"\n",
      "\u001b[31mchr\u001b[39m (7): url, slug, sha, test, sleepLines, traceHash, exemplarFirstLine\n",
      "\u001b[32mdbl\u001b[39m (6): count.FlakeRake, tried.FlakeRake, reproAvgTime, count.Rerun, count....\n",
      "\n",
      "\n",
      "\u001b[36mℹ\u001b[39m Use \u001b[30m\u001b[47m\u001b[30m\u001b[47m`spec()`\u001b[47m\u001b[30m\u001b[49m\u001b[39m to retrieve the full column specification for this data.\n",
      "\u001b[36mℹ\u001b[39m Specify the column types or set \u001b[30m\u001b[47m\u001b[30m\u001b[47m`show_col_types = FALSE`\u001b[47m\u001b[30m\u001b[49m\u001b[39m to quiet this message.\n",
      "\n",
      "Warning message:\n",
      "“One or more parsing issues, see `problems()` for details”\n",
      "`summarise()` has grouped output by 'slug', 'test'. You can override using the `.groups` argument.\n",
      "\n",
      "`mutate_if()` ignored the following grouping variables:\n",
      "Columns `slug`, `test`\n",
      "\n"
     ]
    }
   ],
   "source": [
    "# Read in source data\n",
    "allReproResults <- read_csv(\"repro-matches.csv\") %>%\n",
    "    mutate_if(is.numeric, ~ replace(., is.na(.), 0))\n",
    "\n",
    "# tests that failed persistently in isolated rerun, we could not get them to appear \"flaky\" (just persistent fails)\n",
    "skippedTests <- c(\"ch.qos.logback.core.recovery.ResilientOutputStreamTest#verifyRecuperationAfterFailure\", \"ch.qos.logback.core.util.FileUtilTest#basicCopyingWorks\", \"org.springframework.boot.cli.command.CommandRunnerIntegrationTests#debugAddsAutoconfigReport\", \"org.springframework.boot.cli.DirectorySourcesIntegrationTests#runDirectory\", \"org.springframework.boot.cli.JarCommandIT#jarCreation\", \"org.springframework.boot.cli.JarCommandIT#jarCreationWithGrabResolver\", \"org.springframework.boot.cli.JarCommandIT#jarCreationWithIncludes\", \"org.springframework.boot.cli.ReproIntegrationTests#grabAntBuilder\", \"org.springframework.boot.cli.ReproIntegrationTests#securityDependencies\", \"org.springframework.boot.cli.ReproIntegrationTests#shellDependencies\", \"org.springframework.boot.cli.SampleIntegrationTests#actuatorSample\", \"org.springframework.boot.cli.SampleIntegrationTests#beansSample\", \"org.springframework.boot.cli.SampleIntegrationTests#deviceSample\", \"org.springframework.boot.cli.SampleIntegrationTests#httpSample\", \"org.springframework.boot.cli.SampleIntegrationTests#integrationSample\", \"org.springframework.boot.cli.SampleIntegrationTests#jobWebSample\", \"org.springframework.boot.cli.SampleIntegrationTests#reactorSample\", \"org.springframework.boot.cli.SampleIntegrationTests#templateSample\", \"org.springframework.boot.cli.SampleIntegrationTests#uiSample\", \"org.springframework.boot.cli.SampleIntegrationTests#webSample\", \"org.springframework.boot.cli.TestCommandIntegrationTests#integrationAutoConfigEmbeddedTest\", \"org.springframework.boot.cli.TestCommandIntegrationTests#integrationAutoConfigTest\", \"org.springframework.boot.gradle.ClassifierTests#classifierInBootExtension\", \"org.springframework.boot.gradle.ClassifierTests#classifierInBootTask\", \"org.springframework.boot.gradle.CustomVersionManagementTests#exclusionsAreStillInPlace\", \"org.springframework.boot.gradle.FlatdirTests#flatdir\", \"org.springframework.boot.gradle.InstallTests#cleanInstall\", \"org.springframework.boot.gradle.InstallTests#cleanInstallApp\", \"org.springframework.boot.gradle.InstallTests#cleanInstallVersionManagement\", \"org.springframework.boot.gradle.MainClassTests#buildFromRunTask\", \"org.springframework.boot.gradle.MultiProjectRepackagingTests#repackageWithCommonFileDependency\", \"org.springframework.boot.gradle.MultiProjectRepackagingTests#repackageWithTransitiveFileDependency\", \"org.springframework.boot.gradle.NoJarTests#nojar\", \"org.springframework.boot.gradle.RepackagingTests#repackageWithFileDependency\", \"org.springframework.boot.gradle.RepackagingTests#repackagingDisabled\", \"org.springframework.boot.gradle.RepackagingTests#repackagingDisabledWithCustomRepackagedJar\", \"org.springframework.boot.gradle.RepackagingTests#repackagingDisabledWithCustomRepackagedJarUsingStringJarTaskReference\", \"org.springframework.boot.gradle.RepackagingTests#repackagingEnabled\", \"org.springframework.boot.gradle.RepackagingTests#repackagingEnabledWithCustomRepackagedJar\", \"org.springframework.boot.gradle.RepackagingTests#repackagingEnableWithCustomRepackagedJarUsingStringJarTaskReference\", \"org.springframework.boot.gradle.SpringLoadedTests#defaultJvmArgsArePreservedWhenLoadedAgentIsConfigured\", \"org.springframework.boot.gradle.SpringLoadedTests#springLoadedCanBeUsedWithGradle16\", \"org.springframework.boot.gradle.WarPackagingTests#onlyJettyIsPackackedInWebInfLibProvided\", \"org.springframework.boot.gradle.WarPackagingTests#onlyTomcatIsPackackedInWebInfLibProvided\", \"sample.data.gemfire.SampleDataGemFireApplicationTests#testGemstonesApp\", \"sample.data.redis.SampleRedisApplicationTests#testDefaultSettings\", \"sample.liquibase.SampleLiquibaseApplicationTests#testDefaultSettings\", \"sample.parent.consumer.SampleIntegrationParentApplicationTests#testVanillaExchange\")\n",
    "\n",
    "matchedFailures <- read_csv(\"matched-failures.csv\",\n",
    "    col_types = \"ccccccdddddd\"\n",
    ") %>%\n",
    "    mutate(failingException = extractExceptionName(failureMessage)) %>%\n",
    "    filter(failureMessage != \"SleepyTimeOut(ProbableDeadlock)\") %>%\n",
    "    mutate_if(is.numeric, ~ replace(., is.na(.), 0))\n",
    "\n",
    "# Join the repro results with the original matched failure results\n",
    "reproResults <- matchedFailures %>%\n",
    "    left_join(allReproResults,\n",
    "        by = c(\"test\" = \"test\", \"failureID\" = \"traceHash\"),\n",
    "        suffix = c(\".matchedFailures\", \"\")\n",
    "    ) %>%\n",
    "    mutate(count.FlakeRake = case_when(flakerake == 0 & count.FlakeRake > 0 ~ 0, TRUE ~ count.FlakeRake)) %>% # NAs to 0's\n",
    "    filter((rerun > 0) & (flakerake > 0 | isolatedRerun > 2 | flakeFlaggerRepl > 2)) # Filter to only the failures we care about: flakerake or isolated rerun reproducing an original rerun failure\n",
    "\n",
    "reproByFailure <- reproResults %>%\n",
    "    group_by(slug, test, failureID) %>%\n",
    "    summarise(\n",
    "        reproRate.FlakeRake = max(count.FlakeRake / tried.FlakeRake),\n",
    "        reproRate.baseline = max(count.Rerun / 10000),\n",
    "        reproRate.IsolatedRerun = max(count.IsolatedRerun) / 10000,\n",
    "        reproRate.FlakeFlaggerRepl = max(count.flakeFlaggerRepl) / 10000\n",
    "    ) %>%\n",
    "    mutate_if(is.numeric, ~ replace_na(., 0) %>%\n",
    "        replace(., is.infinite(.), 0)) %>%\n",
    "    ungroup() %>%\n",
    "    mutate(reproRate.MaxAlternative = ifelse(reproRate.IsolatedRerun > reproRate.FlakeFlaggerRepl, reproRate.IsolatedRerun, reproRate.FlakeFlaggerRepl))"
   ]
  },
  {
   "cell_type": "markdown",
   "metadata": {},
   "source": [
    "## Generates Table 2: Reproduction rate for each failure"
   ]
  },
  {
   "cell_type": "code",
   "execution_count": 3,
   "metadata": {
    "vscode": {
     "languageId": "r"
    }
   },
   "outputs": [
    {
     "name": "stderr",
     "output_type": "stream",
     "text": [
      "`summarise()` has grouped output by 'reproRate.FlakeRake'. You can override using the `.groups` argument.\n",
      "\n",
      "`mutate_if()` ignored the following grouping variables:\n",
      "Column `reproRate.FlakeRake`\n",
      "\n"
     ]
    },
    {
     "data": {
      "text/plain": [
       "\n",
       "\\begin{tabular}{lrrrrr}\n",
       "\\toprule\n",
       "reproRate.FlakeRake & 0 & (0\\%, 10\\%] & (10\\%, 25\\%] & (25\\%, 50\\%] & Total\\\\\n",
       "\\midrule\n",
       "(0\\%, 10\\%] & 7 & 13 & 0 & 0 & 20\\\\\n",
       "(10\\%, 25\\%] & 1 & 2 & 0 & 0 & 3\\\\\n",
       "(25\\%, 50\\%] & 2 & 1 & 0 & 0 & 3\\\\\n",
       "(50\\%, 75\\%] & 3 & 5 & 0 & 0 & 8\\\\\n",
       "(75\\%, 99\\%] & 1 & 5 & 0 & 0 & 6\\\\\n",
       "(99\\%, 100\\%] & 35 & 52 & 4 & 2 & 93\\\\\n",
       "0 & 25 & 61 & 23 & 5 & 114\\\\\n",
       "Total & 74 & 139 & 27 & 7 & 247\\\\\n",
       "\\bottomrule\n",
       "\\end{tabular}"
      ]
     },
     "metadata": {},
     "output_type": "display_data"
    }
   ],
   "source": [
    "breaks <- c(0,0.1,0.25,0.5,0.75,0.99,1)\n",
    "bucketedRepro <- reproByFailure %>%\n",
    "        mutate( #Bucket the repro rates\n",
    "            reproRate.FlakeRake    =cut_format(reproRate.FlakeRake,     breaks=breaks, format_fun = function(x) paste0(x * 100, \"%\")),\n",
    "            reproRate.MaxAlternative=cut_format(reproRate.MaxAlternative, breaks=breaks,  format_fun = function(x) paste0(x * 100, \"%\"))\n",
    "            ) %>%\n",
    "        mutate_if(is.factor, as.character) %>% \n",
    "        mutate_at(vars(contains(\"reproRate\")), ~replace(., is.na(.), 0)) %>%\n",
    "        group_by(reproRate.FlakeRake,reproRate.MaxAlternative) %>% summarise(count=n()) %>%\n",
    "        bind_rows(group_by(.,reproRate.FlakeRake) %>%\n",
    "                  summarise(count=sum(count)) %>%\n",
    "                  mutate(reproRate.MaxAlternative='Total')) %>%\n",
    "          bind_rows(group_by(.,reproRate.MaxAlternative) %>%\n",
    "                  summarise(count=sum(count)) %>%\n",
    "                  mutate(reproRate.FlakeRake='Total'))\n",
    "bucketedRepro %>% \n",
    "pivot_wider(names_from=reproRate.MaxAlternative,values_from=count) %>% relocate(`0`, .before=`(0%, 10%]`) %>%\n",
    "relocate(`(10%, 25%]`, .before=`(25%, 50%]`) %>%\n",
    "mutate_if(is.numeric, ~replace(., is.na(.), 0)) %>%\n",
    "arrange(reproRate.FlakeRake) %>% kable(\"latex\", \n",
    "        booktabs=TRUE,escape=TRUE, linesep=\"\", digits=0, format.args = list(big.mark = \",\", scientific = FALSE))"
   ]
  }
 ],
 "metadata": {
  "kernelspec": {
   "display_name": "R",
   "language": "R",
   "name": "ir"
  },
  "language_info": {
   "codemirror_mode": "r",
   "file_extension": ".r",
   "mimetype": "text/x-r-source",
   "name": "R",
   "pygments_lexer": "r",
   "version": "3.6.3"
  },
  "orig_nbformat": 4
 },
 "nbformat": 4,
 "nbformat_minor": 2
}
